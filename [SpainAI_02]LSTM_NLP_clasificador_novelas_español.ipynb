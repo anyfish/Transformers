{
  "nbformat": 4,
  "nbformat_minor": 0,
  "metadata": {
    "colab": {
      "name": "[SpainAI-02]LSTM-NLP-clasificador-novelas-español.ipynb",
      "provenance": [],
      "collapsed_sections": [],
      "include_colab_link": true
    },
    "kernelspec": {
      "name": "python3",
      "display_name": "Python 3"
    },
    "language_info": {
      "name": "python"
    }
  },
  "cells": [
    {
      "cell_type": "markdown",
      "metadata": {
        "id": "view-in-github",
        "colab_type": "text"
      },
      "source": [
        "<a href=\"https://colab.research.google.com/github/anyfish/Transformers_SpainAI/blob/main/%5BSpainAI_02%5DLSTM_NLP_clasificador_novelas_espa%C3%B1ol.ipynb\" target=\"_parent\"><img src=\"https://colab.research.google.com/assets/colab-badge.svg\" alt=\"Open In Colab\"/></a>"
      ]
    },
    {
      "cell_type": "markdown",
      "metadata": {
        "id": "pVzQ1KMCLs5_"
      },
      "source": [
        "# Clasificación de texto usando LSTMs con TensorFlow 2.0"
      ]
    },
    {
      "cell_type": "markdown",
      "metadata": {
        "id": "mypT6qjZa1b8"
      },
      "source": [
        "Vamos a crear una Red Neuronal Recurrente (BiLSTM) capaz de clasificar si una secuencia de una novela pertenece a Benito Pérez Galdós o Emilia Pardo Bazán.\n",
        " - Idea y preparación del dataset de [Javier de La Rosa](https://twitter.com/versae)"
      ]
    },
    {
      "cell_type": "markdown",
      "metadata": {
        "id": "Pe55OPlQMJj6"
      },
      "source": [
        "## Importamos las bibliotecas requeridas"
      ]
    },
    {
      "cell_type": "code",
      "metadata": {
        "colab": {
          "base_uri": "https://localhost:8080/"
        },
        "id": "i_cQyHTKXT7n",
        "outputId": "929a30a1-51e1-47ab-86f1-284adf6737f4"
      },
      "source": [
        "import csv\n",
        "import tensorflow as tf\n",
        "import numpy as np\n",
        "import pandas as pd\n",
        "import matplotlib.pyplot as plt\n",
        "from tensorflow.keras.preprocessing.text import Tokenizer\n",
        "from tensorflow.keras.preprocessing.sequence import pad_sequences\n",
        "from tqdm import tqdm # Barra de progreso\n",
        "import requests\n",
        "print(tf.__version__)"
      ],
      "execution_count": null,
      "outputs": [
        {
          "output_type": "stream",
          "name": "stdout",
          "text": [
            "2.8.2\n"
          ]
        }
      ]
    },
    {
      "cell_type": "markdown",
      "metadata": {
        "id": "ksxRTxvFL3RV"
      },
      "source": [
        "## Descarga del dataset"
      ]
    },
    {
      "cell_type": "markdown",
      "metadata": {
        "id": "Q7tbGXHJbYVh"
      },
      "source": [
        "Descargaremos 3 novelas por autor"
      ]
    },
    {
      "cell_type": "code",
      "metadata": {
        "colab": {
          "base_uri": "https://localhost:8080/"
        },
        "id": "ygmo15fbdP1o",
        "outputId": "38529776-91d7-4bbd-d9bd-a897c416a2a4"
      },
      "source": [
        "URLS = [\n",
        "    (\"galdos\", \"http://www.gutenberg.org/cache/epub/52392/pg52392.txt\"),  # Miau\n",
        "    (\"galdos\", \"http://www.gutenberg.org/cache/epub/15725/pg15725.txt\"),  # Doña Perfecta\n",
        "    (\"galdos\", \"http://www.gutenberg.org/cache/epub/17013/pg17013.txt\"),  # Fortunata y Jacinta\n",
        "    (\"bazan\", \"https://www.gutenberg.org/files/65632/65632-0.txt\"),  # La prueba\n",
        "    (\"bazan\", \"https://www.gutenberg.org/files/58059/58059-0.txt\"),  # La Madre Naturaleza\n",
        "    (\"bazan\", \"https://www.gutenberg.org/cache/epub/17491/pg17491.txt\"),  # La Tribuna\n",
        "]\n",
        "\n",
        "galdos = \"\"\n",
        "bazan = \"\"\n",
        "for author, url in tqdm(URLS):\n",
        "    work_text = requests.get(url).text\n",
        "    start_mark = \"START OF \"\n",
        "    end_mark = \"END OF \"\n",
        "    work_text = work_text[work_text.index(start_mark):work_text.index(end_mark)]\n",
        "    if author == \"galdos\":\n",
        "        galdos += \"\\n\" + work_text\n",
        "    else:\n",
        "        bazan += \"\\n\" + work_text"
      ],
      "execution_count": null,
      "outputs": [
        {
          "output_type": "stream",
          "name": "stderr",
          "text": [
            "100%|██████████| 6/6 [00:05<00:00,  1.06it/s]\n"
          ]
        }
      ]
    },
    {
      "cell_type": "markdown",
      "metadata": {
        "id": "MYHZWOD1W6ck"
      },
      "source": [
        "Vamos a dividir las novelas en secuencias de una longitud de 250 palabras. Podemos probar con una longitud superior e inferior. Al fin y al cabo es un parámetro a tener en cuenta cuando se define una RNN"
      ]
    },
    {
      "cell_type": "code",
      "metadata": {
        "id": "mXX73jpWoHB2"
      },
      "source": [
        "n = 250\n",
        "\n",
        "galdos_splits = galdos.split()\n",
        "galdos_chunks = [galdos_splits[i:i + n] for i in range(0, len(galdos_splits), n)]\n",
        "\n",
        "bazan_splits = bazan.split()\n",
        "bazan_chunks = [bazan_splits[i:i + n] for i in range(0, len(bazan_splits), n)]"
      ],
      "execution_count": null,
      "outputs": []
    },
    {
      "cell_type": "markdown",
      "metadata": {
        "id": "5Fg1R_RAXCAm"
      },
      "source": [
        "Ahora construiremos una tabla (`DataFrame`) con los textos de cada extracto y una segunda columna indicando si pertenecen la obra de Galdós con un 1 o de Pardo Bazán con un 0."
      ]
    },
    {
      "cell_type": "code",
      "metadata": {
        "colab": {
          "base_uri": "https://localhost:8080/"
        },
        "id": "N19hpkoZoLWV",
        "outputId": "75795d79-094f-4032-f072-662dd7409227"
      },
      "source": [
        "galdos_len = len(galdos_chunks)\n",
        "bazan_len = len(bazan_chunks)\n",
        "galdos_len, bazan_len "
      ],
      "execution_count": null,
      "outputs": [
        {
          "output_type": "execute_result",
          "data": {
            "text/plain": [
              "(2426, 868)"
            ]
          },
          "metadata": {},
          "execution_count": 12
        }
      ]
    },
    {
      "cell_type": "code",
      "metadata": {
        "id": "ia-Ju3mtXJZ2"
      },
      "source": [
        "galdos_df = pd.DataFrame(\n",
        "    [\" \".join(chunk) for chunk in galdos_chunks],\n",
        "    columns=[\"text\"]\n",
        ").assign(labels=1).sample(frac=1).reset_index(drop=True)\n",
        "bazan_df = pd.DataFrame(\n",
        "    [\" \".join(chunk) for chunk in bazan_chunks],\n",
        "    columns=[\"text\"]\n",
        ").assign(labels=0).sample(frac=1).reset_index(drop=True)"
      ],
      "execution_count": null,
      "outputs": []
    },
    {
      "cell_type": "code",
      "metadata": {
        "colab": {
          "base_uri": "https://localhost:8080/",
          "height": 424
        },
        "id": "xCzA4ACFcTcp",
        "outputId": "3bd42403-fd90-4483-cc7c-f007bc729e0a"
      },
      "source": [
        "galdos_df"
      ],
      "execution_count": null,
      "outputs": [
        {
          "output_type": "execute_result",
          "data": {
            "text/plain": [
              "                                                   text  labels\n",
              "0     Él y Barbarita no habían ido ni siquiera a Cha...       0\n",
              "1     vais á morir!...» Llamaron, y les abrió una mu...       0\n",
              "2     no me acuerdo del título; es valenciano y algo...       0\n",
              "3     Santísima?... Porque ya empezaba a ser viejo y...       0\n",
              "4     en voz alta añadió, creyendo en la posibilidad...       0\n",
              "...                                                 ...     ...\n",
              "2421  estaba su prima. Reuniéronse y la arropó cuida...       0\n",
              "2422  de Shakespeare. Pero después de aquella sacudi...       0\n",
              "2423  cuidaban de no responderle ó de hablarle con b...       0\n",
              "2424  con el cuerpo que... ya le digo que la deslomo...       0\n",
              "2425  duermo un poco. Así; cerraré los ojos. No, mej...       0\n",
              "\n",
              "[2426 rows x 2 columns]"
            ],
            "text/html": [
              "\n",
              "  <div id=\"df-3ceacb6c-5338-4ad2-96f5-392b56961400\">\n",
              "    <div class=\"colab-df-container\">\n",
              "      <div>\n",
              "<style scoped>\n",
              "    .dataframe tbody tr th:only-of-type {\n",
              "        vertical-align: middle;\n",
              "    }\n",
              "\n",
              "    .dataframe tbody tr th {\n",
              "        vertical-align: top;\n",
              "    }\n",
              "\n",
              "    .dataframe thead th {\n",
              "        text-align: right;\n",
              "    }\n",
              "</style>\n",
              "<table border=\"1\" class=\"dataframe\">\n",
              "  <thead>\n",
              "    <tr style=\"text-align: right;\">\n",
              "      <th></th>\n",
              "      <th>text</th>\n",
              "      <th>labels</th>\n",
              "    </tr>\n",
              "  </thead>\n",
              "  <tbody>\n",
              "    <tr>\n",
              "      <th>0</th>\n",
              "      <td>Él y Barbarita no habían ido ni siquiera a Cha...</td>\n",
              "      <td>0</td>\n",
              "    </tr>\n",
              "    <tr>\n",
              "      <th>1</th>\n",
              "      <td>vais á morir!...» Llamaron, y les abrió una mu...</td>\n",
              "      <td>0</td>\n",
              "    </tr>\n",
              "    <tr>\n",
              "      <th>2</th>\n",
              "      <td>no me acuerdo del título; es valenciano y algo...</td>\n",
              "      <td>0</td>\n",
              "    </tr>\n",
              "    <tr>\n",
              "      <th>3</th>\n",
              "      <td>Santísima?... Porque ya empezaba a ser viejo y...</td>\n",
              "      <td>0</td>\n",
              "    </tr>\n",
              "    <tr>\n",
              "      <th>4</th>\n",
              "      <td>en voz alta añadió, creyendo en la posibilidad...</td>\n",
              "      <td>0</td>\n",
              "    </tr>\n",
              "    <tr>\n",
              "      <th>...</th>\n",
              "      <td>...</td>\n",
              "      <td>...</td>\n",
              "    </tr>\n",
              "    <tr>\n",
              "      <th>2421</th>\n",
              "      <td>estaba su prima. Reuniéronse y la arropó cuida...</td>\n",
              "      <td>0</td>\n",
              "    </tr>\n",
              "    <tr>\n",
              "      <th>2422</th>\n",
              "      <td>de Shakespeare. Pero después de aquella sacudi...</td>\n",
              "      <td>0</td>\n",
              "    </tr>\n",
              "    <tr>\n",
              "      <th>2423</th>\n",
              "      <td>cuidaban de no responderle ó de hablarle con b...</td>\n",
              "      <td>0</td>\n",
              "    </tr>\n",
              "    <tr>\n",
              "      <th>2424</th>\n",
              "      <td>con el cuerpo que... ya le digo que la deslomo...</td>\n",
              "      <td>0</td>\n",
              "    </tr>\n",
              "    <tr>\n",
              "      <th>2425</th>\n",
              "      <td>duermo un poco. Así; cerraré los ojos. No, mej...</td>\n",
              "      <td>0</td>\n",
              "    </tr>\n",
              "  </tbody>\n",
              "</table>\n",
              "<p>2426 rows × 2 columns</p>\n",
              "</div>\n",
              "      <button class=\"colab-df-convert\" onclick=\"convertToInteractive('df-3ceacb6c-5338-4ad2-96f5-392b56961400')\"\n",
              "              title=\"Convert this dataframe to an interactive table.\"\n",
              "              style=\"display:none;\">\n",
              "        \n",
              "  <svg xmlns=\"http://www.w3.org/2000/svg\" height=\"24px\"viewBox=\"0 0 24 24\"\n",
              "       width=\"24px\">\n",
              "    <path d=\"M0 0h24v24H0V0z\" fill=\"none\"/>\n",
              "    <path d=\"M18.56 5.44l.94 2.06.94-2.06 2.06-.94-2.06-.94-.94-2.06-.94 2.06-2.06.94zm-11 1L8.5 8.5l.94-2.06 2.06-.94-2.06-.94L8.5 2.5l-.94 2.06-2.06.94zm10 10l.94 2.06.94-2.06 2.06-.94-2.06-.94-.94-2.06-.94 2.06-2.06.94z\"/><path d=\"M17.41 7.96l-1.37-1.37c-.4-.4-.92-.59-1.43-.59-.52 0-1.04.2-1.43.59L10.3 9.45l-7.72 7.72c-.78.78-.78 2.05 0 2.83L4 21.41c.39.39.9.59 1.41.59.51 0 1.02-.2 1.41-.59l7.78-7.78 2.81-2.81c.8-.78.8-2.07 0-2.86zM5.41 20L4 18.59l7.72-7.72 1.47 1.35L5.41 20z\"/>\n",
              "  </svg>\n",
              "      </button>\n",
              "      \n",
              "  <style>\n",
              "    .colab-df-container {\n",
              "      display:flex;\n",
              "      flex-wrap:wrap;\n",
              "      gap: 12px;\n",
              "    }\n",
              "\n",
              "    .colab-df-convert {\n",
              "      background-color: #E8F0FE;\n",
              "      border: none;\n",
              "      border-radius: 50%;\n",
              "      cursor: pointer;\n",
              "      display: none;\n",
              "      fill: #1967D2;\n",
              "      height: 32px;\n",
              "      padding: 0 0 0 0;\n",
              "      width: 32px;\n",
              "    }\n",
              "\n",
              "    .colab-df-convert:hover {\n",
              "      background-color: #E2EBFA;\n",
              "      box-shadow: 0px 1px 2px rgba(60, 64, 67, 0.3), 0px 1px 3px 1px rgba(60, 64, 67, 0.15);\n",
              "      fill: #174EA6;\n",
              "    }\n",
              "\n",
              "    [theme=dark] .colab-df-convert {\n",
              "      background-color: #3B4455;\n",
              "      fill: #D2E3FC;\n",
              "    }\n",
              "\n",
              "    [theme=dark] .colab-df-convert:hover {\n",
              "      background-color: #434B5C;\n",
              "      box-shadow: 0px 1px 3px 1px rgba(0, 0, 0, 0.15);\n",
              "      filter: drop-shadow(0px 1px 2px rgba(0, 0, 0, 0.3));\n",
              "      fill: #FFFFFF;\n",
              "    }\n",
              "  </style>\n",
              "\n",
              "      <script>\n",
              "        const buttonEl =\n",
              "          document.querySelector('#df-3ceacb6c-5338-4ad2-96f5-392b56961400 button.colab-df-convert');\n",
              "        buttonEl.style.display =\n",
              "          google.colab.kernel.accessAllowed ? 'block' : 'none';\n",
              "\n",
              "        async function convertToInteractive(key) {\n",
              "          const element = document.querySelector('#df-3ceacb6c-5338-4ad2-96f5-392b56961400');\n",
              "          const dataTable =\n",
              "            await google.colab.kernel.invokeFunction('convertToInteractive',\n",
              "                                                     [key], {});\n",
              "          if (!dataTable) return;\n",
              "\n",
              "          const docLinkHtml = 'Like what you see? Visit the ' +\n",
              "            '<a target=\"_blank\" href=https://colab.research.google.com/notebooks/data_table.ipynb>data table notebook</a>'\n",
              "            + ' to learn more about interactive tables.';\n",
              "          element.innerHTML = '';\n",
              "          dataTable['output_type'] = 'display_data';\n",
              "          await google.colab.output.renderOutput(dataTable, element);\n",
              "          const docLink = document.createElement('div');\n",
              "          docLink.innerHTML = docLinkHtml;\n",
              "          element.appendChild(docLink);\n",
              "        }\n",
              "      </script>\n",
              "    </div>\n",
              "  </div>\n",
              "  "
            ]
          },
          "metadata": {},
          "execution_count": 40
        }
      ]
    },
    {
      "cell_type": "code",
      "metadata": {
        "colab": {
          "base_uri": "https://localhost:8080/",
          "height": 424
        },
        "id": "ZnF9lJV8cYFG",
        "outputId": "c8fa5585-9755-4696-8ae2-e2b7dddc7e25"
      },
      "source": [
        "bazan_df"
      ],
      "execution_count": null,
      "outputs": [
        {
          "output_type": "execute_result",
          "data": {
            "text/plain": [
              "                                                  text  labels\n",
              "0    el edificio por todos lados. No sólo las que e...       0\n",
              "1    divierta conmigo! JesÃºs... Â¡ay Dios! LlevÃ³s...       0\n",
              "2    murmurando no sÃ© quÃ© fÃ³rmulas de cortesÃ­a:...       0\n",
              "3    los carlistas medran, pululan, brotan por toda...       0\n",
              "4    tacón de plano en la inflamada mejilla que vio...       0\n",
              "..                                                 ...     ...\n",
              "863  ¡saludan a todos y se ríen para todos!, ¡repub...       0\n",
              "864  --Â¡Boba! Â¡Gran milagro! Supe que unos hombre...       0\n",
              "865  hace mil años.... Esa fresa es mía --exclamó a...       0\n",
              "866  que amagaban tempestad. No por eso había menos...       0\n",
              "867  descoyuntar las mandíbulas. Peor sería hablar ...       0\n",
              "\n",
              "[868 rows x 2 columns]"
            ],
            "text/html": [
              "\n",
              "  <div id=\"df-d2ef9c82-d985-4864-84f2-6b3955bb8d5e\">\n",
              "    <div class=\"colab-df-container\">\n",
              "      <div>\n",
              "<style scoped>\n",
              "    .dataframe tbody tr th:only-of-type {\n",
              "        vertical-align: middle;\n",
              "    }\n",
              "\n",
              "    .dataframe tbody tr th {\n",
              "        vertical-align: top;\n",
              "    }\n",
              "\n",
              "    .dataframe thead th {\n",
              "        text-align: right;\n",
              "    }\n",
              "</style>\n",
              "<table border=\"1\" class=\"dataframe\">\n",
              "  <thead>\n",
              "    <tr style=\"text-align: right;\">\n",
              "      <th></th>\n",
              "      <th>text</th>\n",
              "      <th>labels</th>\n",
              "    </tr>\n",
              "  </thead>\n",
              "  <tbody>\n",
              "    <tr>\n",
              "      <th>0</th>\n",
              "      <td>el edificio por todos lados. No sólo las que e...</td>\n",
              "      <td>0</td>\n",
              "    </tr>\n",
              "    <tr>\n",
              "      <th>1</th>\n",
              "      <td>divierta conmigo! JesÃºs... Â¡ay Dios! LlevÃ³s...</td>\n",
              "      <td>0</td>\n",
              "    </tr>\n",
              "    <tr>\n",
              "      <th>2</th>\n",
              "      <td>murmurando no sÃ© quÃ© fÃ³rmulas de cortesÃ­a:...</td>\n",
              "      <td>0</td>\n",
              "    </tr>\n",
              "    <tr>\n",
              "      <th>3</th>\n",
              "      <td>los carlistas medran, pululan, brotan por toda...</td>\n",
              "      <td>0</td>\n",
              "    </tr>\n",
              "    <tr>\n",
              "      <th>4</th>\n",
              "      <td>tacón de plano en la inflamada mejilla que vio...</td>\n",
              "      <td>0</td>\n",
              "    </tr>\n",
              "    <tr>\n",
              "      <th>...</th>\n",
              "      <td>...</td>\n",
              "      <td>...</td>\n",
              "    </tr>\n",
              "    <tr>\n",
              "      <th>863</th>\n",
              "      <td>¡saludan a todos y se ríen para todos!, ¡repub...</td>\n",
              "      <td>0</td>\n",
              "    </tr>\n",
              "    <tr>\n",
              "      <th>864</th>\n",
              "      <td>--Â¡Boba! Â¡Gran milagro! Supe que unos hombre...</td>\n",
              "      <td>0</td>\n",
              "    </tr>\n",
              "    <tr>\n",
              "      <th>865</th>\n",
              "      <td>hace mil años.... Esa fresa es mía --exclamó a...</td>\n",
              "      <td>0</td>\n",
              "    </tr>\n",
              "    <tr>\n",
              "      <th>866</th>\n",
              "      <td>que amagaban tempestad. No por eso había menos...</td>\n",
              "      <td>0</td>\n",
              "    </tr>\n",
              "    <tr>\n",
              "      <th>867</th>\n",
              "      <td>descoyuntar las mandíbulas. Peor sería hablar ...</td>\n",
              "      <td>0</td>\n",
              "    </tr>\n",
              "  </tbody>\n",
              "</table>\n",
              "<p>868 rows × 2 columns</p>\n",
              "</div>\n",
              "      <button class=\"colab-df-convert\" onclick=\"convertToInteractive('df-d2ef9c82-d985-4864-84f2-6b3955bb8d5e')\"\n",
              "              title=\"Convert this dataframe to an interactive table.\"\n",
              "              style=\"display:none;\">\n",
              "        \n",
              "  <svg xmlns=\"http://www.w3.org/2000/svg\" height=\"24px\"viewBox=\"0 0 24 24\"\n",
              "       width=\"24px\">\n",
              "    <path d=\"M0 0h24v24H0V0z\" fill=\"none\"/>\n",
              "    <path d=\"M18.56 5.44l.94 2.06.94-2.06 2.06-.94-2.06-.94-.94-2.06-.94 2.06-2.06.94zm-11 1L8.5 8.5l.94-2.06 2.06-.94-2.06-.94L8.5 2.5l-.94 2.06-2.06.94zm10 10l.94 2.06.94-2.06 2.06-.94-2.06-.94-.94-2.06-.94 2.06-2.06.94z\"/><path d=\"M17.41 7.96l-1.37-1.37c-.4-.4-.92-.59-1.43-.59-.52 0-1.04.2-1.43.59L10.3 9.45l-7.72 7.72c-.78.78-.78 2.05 0 2.83L4 21.41c.39.39.9.59 1.41.59.51 0 1.02-.2 1.41-.59l7.78-7.78 2.81-2.81c.8-.78.8-2.07 0-2.86zM5.41 20L4 18.59l7.72-7.72 1.47 1.35L5.41 20z\"/>\n",
              "  </svg>\n",
              "      </button>\n",
              "      \n",
              "  <style>\n",
              "    .colab-df-container {\n",
              "      display:flex;\n",
              "      flex-wrap:wrap;\n",
              "      gap: 12px;\n",
              "    }\n",
              "\n",
              "    .colab-df-convert {\n",
              "      background-color: #E8F0FE;\n",
              "      border: none;\n",
              "      border-radius: 50%;\n",
              "      cursor: pointer;\n",
              "      display: none;\n",
              "      fill: #1967D2;\n",
              "      height: 32px;\n",
              "      padding: 0 0 0 0;\n",
              "      width: 32px;\n",
              "    }\n",
              "\n",
              "    .colab-df-convert:hover {\n",
              "      background-color: #E2EBFA;\n",
              "      box-shadow: 0px 1px 2px rgba(60, 64, 67, 0.3), 0px 1px 3px 1px rgba(60, 64, 67, 0.15);\n",
              "      fill: #174EA6;\n",
              "    }\n",
              "\n",
              "    [theme=dark] .colab-df-convert {\n",
              "      background-color: #3B4455;\n",
              "      fill: #D2E3FC;\n",
              "    }\n",
              "\n",
              "    [theme=dark] .colab-df-convert:hover {\n",
              "      background-color: #434B5C;\n",
              "      box-shadow: 0px 1px 3px 1px rgba(0, 0, 0, 0.15);\n",
              "      filter: drop-shadow(0px 1px 2px rgba(0, 0, 0, 0.3));\n",
              "      fill: #FFFFFF;\n",
              "    }\n",
              "  </style>\n",
              "\n",
              "      <script>\n",
              "        const buttonEl =\n",
              "          document.querySelector('#df-d2ef9c82-d985-4864-84f2-6b3955bb8d5e button.colab-df-convert');\n",
              "        buttonEl.style.display =\n",
              "          google.colab.kernel.accessAllowed ? 'block' : 'none';\n",
              "\n",
              "        async function convertToInteractive(key) {\n",
              "          const element = document.querySelector('#df-d2ef9c82-d985-4864-84f2-6b3955bb8d5e');\n",
              "          const dataTable =\n",
              "            await google.colab.kernel.invokeFunction('convertToInteractive',\n",
              "                                                     [key], {});\n",
              "          if (!dataTable) return;\n",
              "\n",
              "          const docLinkHtml = 'Like what you see? Visit the ' +\n",
              "            '<a target=\"_blank\" href=https://colab.research.google.com/notebooks/data_table.ipynb>data table notebook</a>'\n",
              "            + ' to learn more about interactive tables.';\n",
              "          element.innerHTML = '';\n",
              "          dataTable['output_type'] = 'display_data';\n",
              "          await google.colab.output.renderOutput(dataTable, element);\n",
              "          const docLink = document.createElement('div');\n",
              "          docLink.innerHTML = docLinkHtml;\n",
              "          element.appendChild(docLink);\n",
              "        }\n",
              "      </script>\n",
              "    </div>\n",
              "  </div>\n",
              "  "
            ]
          },
          "metadata": {},
          "execution_count": 15
        }
      ]
    },
    {
      "cell_type": "markdown",
      "metadata": {
        "id": "rLeq3F2Nio45"
      },
      "source": [
        "## División de los datasets"
      ]
    },
    {
      "cell_type": "code",
      "metadata": {
        "colab": {
          "base_uri": "https://localhost:8080/",
          "height": 424
        },
        "id": "GMUyR7AWoPWo",
        "outputId": "d0af76df-7c10-4a58-8232-72c11e08749e"
      },
      "source": [
        "train_df = pd.concat(\n",
        "    [galdos_df[:int(galdos_len*.2)], bazan_df[:int(bazan_len*.2)]],\n",
        "    ignore_index=True\n",
        ").sample(frac=1).reset_index(drop=True)\n",
        "train_df"
      ],
      "execution_count": null,
      "outputs": [
        {
          "output_type": "execute_result",
          "data": {
            "text/plain": [
              "                                                  text  labels\n",
              "0    la providencia del Dracón administrativo, dici...       1\n",
              "1    cuchillo, y diciendo: «¡Re-hostia con la Repób...       1\n",
              "2    popular poetry. He is the hero of one of the e...       1\n",
              "3    Ã¡ estas horas estÃ¡ en la cama con un mal. Ob...       0\n",
              "4    el último año, y lo más pronto que le fuera po...       1\n",
              "..                                                 ...     ...\n",
              "653  uno como el otro, y entonces sí que debíamos m...       1\n",
              "654  de servir para nada. Mareaba a Cristo con sus ...       1\n",
              "655  Por fin, echó una voz que parecía infantil, vo...       1\n",
              "656  idea u otra semejante le refrescaba el recuerd...       1\n",
              "657  gabinete de la santa. Esta se vio algo confusa...       1\n",
              "\n",
              "[658 rows x 2 columns]"
            ],
            "text/html": [
              "\n",
              "  <div id=\"df-d2fb5d67-fa79-4750-ab95-9fa59ec32391\">\n",
              "    <div class=\"colab-df-container\">\n",
              "      <div>\n",
              "<style scoped>\n",
              "    .dataframe tbody tr th:only-of-type {\n",
              "        vertical-align: middle;\n",
              "    }\n",
              "\n",
              "    .dataframe tbody tr th {\n",
              "        vertical-align: top;\n",
              "    }\n",
              "\n",
              "    .dataframe thead th {\n",
              "        text-align: right;\n",
              "    }\n",
              "</style>\n",
              "<table border=\"1\" class=\"dataframe\">\n",
              "  <thead>\n",
              "    <tr style=\"text-align: right;\">\n",
              "      <th></th>\n",
              "      <th>text</th>\n",
              "      <th>labels</th>\n",
              "    </tr>\n",
              "  </thead>\n",
              "  <tbody>\n",
              "    <tr>\n",
              "      <th>0</th>\n",
              "      <td>la providencia del Dracón administrativo, dici...</td>\n",
              "      <td>1</td>\n",
              "    </tr>\n",
              "    <tr>\n",
              "      <th>1</th>\n",
              "      <td>cuchillo, y diciendo: «¡Re-hostia con la Repób...</td>\n",
              "      <td>1</td>\n",
              "    </tr>\n",
              "    <tr>\n",
              "      <th>2</th>\n",
              "      <td>popular poetry. He is the hero of one of the e...</td>\n",
              "      <td>1</td>\n",
              "    </tr>\n",
              "    <tr>\n",
              "      <th>3</th>\n",
              "      <td>Ã¡ estas horas estÃ¡ en la cama con un mal. Ob...</td>\n",
              "      <td>0</td>\n",
              "    </tr>\n",
              "    <tr>\n",
              "      <th>4</th>\n",
              "      <td>el último año, y lo más pronto que le fuera po...</td>\n",
              "      <td>1</td>\n",
              "    </tr>\n",
              "    <tr>\n",
              "      <th>...</th>\n",
              "      <td>...</td>\n",
              "      <td>...</td>\n",
              "    </tr>\n",
              "    <tr>\n",
              "      <th>653</th>\n",
              "      <td>uno como el otro, y entonces sí que debíamos m...</td>\n",
              "      <td>1</td>\n",
              "    </tr>\n",
              "    <tr>\n",
              "      <th>654</th>\n",
              "      <td>de servir para nada. Mareaba a Cristo con sus ...</td>\n",
              "      <td>1</td>\n",
              "    </tr>\n",
              "    <tr>\n",
              "      <th>655</th>\n",
              "      <td>Por fin, echó una voz que parecía infantil, vo...</td>\n",
              "      <td>1</td>\n",
              "    </tr>\n",
              "    <tr>\n",
              "      <th>656</th>\n",
              "      <td>idea u otra semejante le refrescaba el recuerd...</td>\n",
              "      <td>1</td>\n",
              "    </tr>\n",
              "    <tr>\n",
              "      <th>657</th>\n",
              "      <td>gabinete de la santa. Esta se vio algo confusa...</td>\n",
              "      <td>1</td>\n",
              "    </tr>\n",
              "  </tbody>\n",
              "</table>\n",
              "<p>658 rows × 2 columns</p>\n",
              "</div>\n",
              "      <button class=\"colab-df-convert\" onclick=\"convertToInteractive('df-d2fb5d67-fa79-4750-ab95-9fa59ec32391')\"\n",
              "              title=\"Convert this dataframe to an interactive table.\"\n",
              "              style=\"display:none;\">\n",
              "        \n",
              "  <svg xmlns=\"http://www.w3.org/2000/svg\" height=\"24px\"viewBox=\"0 0 24 24\"\n",
              "       width=\"24px\">\n",
              "    <path d=\"M0 0h24v24H0V0z\" fill=\"none\"/>\n",
              "    <path d=\"M18.56 5.44l.94 2.06.94-2.06 2.06-.94-2.06-.94-.94-2.06-.94 2.06-2.06.94zm-11 1L8.5 8.5l.94-2.06 2.06-.94-2.06-.94L8.5 2.5l-.94 2.06-2.06.94zm10 10l.94 2.06.94-2.06 2.06-.94-2.06-.94-.94-2.06-.94 2.06-2.06.94z\"/><path d=\"M17.41 7.96l-1.37-1.37c-.4-.4-.92-.59-1.43-.59-.52 0-1.04.2-1.43.59L10.3 9.45l-7.72 7.72c-.78.78-.78 2.05 0 2.83L4 21.41c.39.39.9.59 1.41.59.51 0 1.02-.2 1.41-.59l7.78-7.78 2.81-2.81c.8-.78.8-2.07 0-2.86zM5.41 20L4 18.59l7.72-7.72 1.47 1.35L5.41 20z\"/>\n",
              "  </svg>\n",
              "      </button>\n",
              "      \n",
              "  <style>\n",
              "    .colab-df-container {\n",
              "      display:flex;\n",
              "      flex-wrap:wrap;\n",
              "      gap: 12px;\n",
              "    }\n",
              "\n",
              "    .colab-df-convert {\n",
              "      background-color: #E8F0FE;\n",
              "      border: none;\n",
              "      border-radius: 50%;\n",
              "      cursor: pointer;\n",
              "      display: none;\n",
              "      fill: #1967D2;\n",
              "      height: 32px;\n",
              "      padding: 0 0 0 0;\n",
              "      width: 32px;\n",
              "    }\n",
              "\n",
              "    .colab-df-convert:hover {\n",
              "      background-color: #E2EBFA;\n",
              "      box-shadow: 0px 1px 2px rgba(60, 64, 67, 0.3), 0px 1px 3px 1px rgba(60, 64, 67, 0.15);\n",
              "      fill: #174EA6;\n",
              "    }\n",
              "\n",
              "    [theme=dark] .colab-df-convert {\n",
              "      background-color: #3B4455;\n",
              "      fill: #D2E3FC;\n",
              "    }\n",
              "\n",
              "    [theme=dark] .colab-df-convert:hover {\n",
              "      background-color: #434B5C;\n",
              "      box-shadow: 0px 1px 3px 1px rgba(0, 0, 0, 0.15);\n",
              "      filter: drop-shadow(0px 1px 2px rgba(0, 0, 0, 0.3));\n",
              "      fill: #FFFFFF;\n",
              "    }\n",
              "  </style>\n",
              "\n",
              "      <script>\n",
              "        const buttonEl =\n",
              "          document.querySelector('#df-d2fb5d67-fa79-4750-ab95-9fa59ec32391 button.colab-df-convert');\n",
              "        buttonEl.style.display =\n",
              "          google.colab.kernel.accessAllowed ? 'block' : 'none';\n",
              "\n",
              "        async function convertToInteractive(key) {\n",
              "          const element = document.querySelector('#df-d2fb5d67-fa79-4750-ab95-9fa59ec32391');\n",
              "          const dataTable =\n",
              "            await google.colab.kernel.invokeFunction('convertToInteractive',\n",
              "                                                     [key], {});\n",
              "          if (!dataTable) return;\n",
              "\n",
              "          const docLinkHtml = 'Like what you see? Visit the ' +\n",
              "            '<a target=\"_blank\" href=https://colab.research.google.com/notebooks/data_table.ipynb>data table notebook</a>'\n",
              "            + ' to learn more about interactive tables.';\n",
              "          element.innerHTML = '';\n",
              "          dataTable['output_type'] = 'display_data';\n",
              "          await google.colab.output.renderOutput(dataTable, element);\n",
              "          const docLink = document.createElement('div');\n",
              "          docLink.innerHTML = docLinkHtml;\n",
              "          element.appendChild(docLink);\n",
              "        }\n",
              "      </script>\n",
              "    </div>\n",
              "  </div>\n",
              "  "
            ]
          },
          "metadata": {},
          "execution_count": 16
        }
      ]
    },
    {
      "cell_type": "code",
      "metadata": {
        "colab": {
          "base_uri": "https://localhost:8080/",
          "height": 424
        },
        "id": "RWvNR1kuXIve",
        "outputId": "51cdf095-e6a8-41d3-e875-7882c8d0f005"
      },
      "source": [
        "eval_df = pd.concat(\n",
        "    [galdos_df[int(galdos_len*.8):], bazan_df[int(bazan_len*.8):]],\n",
        "    ignore_index=True\n",
        ").sample(frac=1).reset_index(drop=True)\n",
        "eval_df"
      ],
      "execution_count": null,
      "outputs": [
        {
          "output_type": "execute_result",
          "data": {
            "text/plain": [
              "                                                  text  labels\n",
              "0    más encomiástico--. No le dé usted otro nombre...       1\n",
              "1    comprar, se acabó la guerra. --¡Pero, hombre.....       1\n",
              "2    and more tragic situations have been imagined ...       1\n",
              "3    en un extremo de la casa, y Fortunata en otro....       1\n",
              "4    danzas_ que podían costarle caras. Dígase lo q...       1\n",
              "..                                                 ...     ...\n",
              "655  el madrugador un desteñido pantalón grancé, re...       0\n",
              "656  pollita. El de los mostachos consideraba a la ...       0\n",
              "657  D. Juanito de Santa Cruz. --Usted está loco --...       1\n",
              "658  la rechazaba por ser demasiado absurda y no ca...       1\n",
              "659  de Amparo, mujer de edad madura, de tristes oj...       0\n",
              "\n",
              "[660 rows x 2 columns]"
            ],
            "text/html": [
              "\n",
              "  <div id=\"df-eedd7a52-2cbf-417b-a08c-53ccd21db391\">\n",
              "    <div class=\"colab-df-container\">\n",
              "      <div>\n",
              "<style scoped>\n",
              "    .dataframe tbody tr th:only-of-type {\n",
              "        vertical-align: middle;\n",
              "    }\n",
              "\n",
              "    .dataframe tbody tr th {\n",
              "        vertical-align: top;\n",
              "    }\n",
              "\n",
              "    .dataframe thead th {\n",
              "        text-align: right;\n",
              "    }\n",
              "</style>\n",
              "<table border=\"1\" class=\"dataframe\">\n",
              "  <thead>\n",
              "    <tr style=\"text-align: right;\">\n",
              "      <th></th>\n",
              "      <th>text</th>\n",
              "      <th>labels</th>\n",
              "    </tr>\n",
              "  </thead>\n",
              "  <tbody>\n",
              "    <tr>\n",
              "      <th>0</th>\n",
              "      <td>más encomiástico--. No le dé usted otro nombre...</td>\n",
              "      <td>1</td>\n",
              "    </tr>\n",
              "    <tr>\n",
              "      <th>1</th>\n",
              "      <td>comprar, se acabó la guerra. --¡Pero, hombre.....</td>\n",
              "      <td>1</td>\n",
              "    </tr>\n",
              "    <tr>\n",
              "      <th>2</th>\n",
              "      <td>and more tragic situations have been imagined ...</td>\n",
              "      <td>1</td>\n",
              "    </tr>\n",
              "    <tr>\n",
              "      <th>3</th>\n",
              "      <td>en un extremo de la casa, y Fortunata en otro....</td>\n",
              "      <td>1</td>\n",
              "    </tr>\n",
              "    <tr>\n",
              "      <th>4</th>\n",
              "      <td>danzas_ que podían costarle caras. Dígase lo q...</td>\n",
              "      <td>1</td>\n",
              "    </tr>\n",
              "    <tr>\n",
              "      <th>...</th>\n",
              "      <td>...</td>\n",
              "      <td>...</td>\n",
              "    </tr>\n",
              "    <tr>\n",
              "      <th>655</th>\n",
              "      <td>el madrugador un desteñido pantalón grancé, re...</td>\n",
              "      <td>0</td>\n",
              "    </tr>\n",
              "    <tr>\n",
              "      <th>656</th>\n",
              "      <td>pollita. El de los mostachos consideraba a la ...</td>\n",
              "      <td>0</td>\n",
              "    </tr>\n",
              "    <tr>\n",
              "      <th>657</th>\n",
              "      <td>D. Juanito de Santa Cruz. --Usted está loco --...</td>\n",
              "      <td>1</td>\n",
              "    </tr>\n",
              "    <tr>\n",
              "      <th>658</th>\n",
              "      <td>la rechazaba por ser demasiado absurda y no ca...</td>\n",
              "      <td>1</td>\n",
              "    </tr>\n",
              "    <tr>\n",
              "      <th>659</th>\n",
              "      <td>de Amparo, mujer de edad madura, de tristes oj...</td>\n",
              "      <td>0</td>\n",
              "    </tr>\n",
              "  </tbody>\n",
              "</table>\n",
              "<p>660 rows × 2 columns</p>\n",
              "</div>\n",
              "      <button class=\"colab-df-convert\" onclick=\"convertToInteractive('df-eedd7a52-2cbf-417b-a08c-53ccd21db391')\"\n",
              "              title=\"Convert this dataframe to an interactive table.\"\n",
              "              style=\"display:none;\">\n",
              "        \n",
              "  <svg xmlns=\"http://www.w3.org/2000/svg\" height=\"24px\"viewBox=\"0 0 24 24\"\n",
              "       width=\"24px\">\n",
              "    <path d=\"M0 0h24v24H0V0z\" fill=\"none\"/>\n",
              "    <path d=\"M18.56 5.44l.94 2.06.94-2.06 2.06-.94-2.06-.94-.94-2.06-.94 2.06-2.06.94zm-11 1L8.5 8.5l.94-2.06 2.06-.94-2.06-.94L8.5 2.5l-.94 2.06-2.06.94zm10 10l.94 2.06.94-2.06 2.06-.94-2.06-.94-.94-2.06-.94 2.06-2.06.94z\"/><path d=\"M17.41 7.96l-1.37-1.37c-.4-.4-.92-.59-1.43-.59-.52 0-1.04.2-1.43.59L10.3 9.45l-7.72 7.72c-.78.78-.78 2.05 0 2.83L4 21.41c.39.39.9.59 1.41.59.51 0 1.02-.2 1.41-.59l7.78-7.78 2.81-2.81c.8-.78.8-2.07 0-2.86zM5.41 20L4 18.59l7.72-7.72 1.47 1.35L5.41 20z\"/>\n",
              "  </svg>\n",
              "      </button>\n",
              "      \n",
              "  <style>\n",
              "    .colab-df-container {\n",
              "      display:flex;\n",
              "      flex-wrap:wrap;\n",
              "      gap: 12px;\n",
              "    }\n",
              "\n",
              "    .colab-df-convert {\n",
              "      background-color: #E8F0FE;\n",
              "      border: none;\n",
              "      border-radius: 50%;\n",
              "      cursor: pointer;\n",
              "      display: none;\n",
              "      fill: #1967D2;\n",
              "      height: 32px;\n",
              "      padding: 0 0 0 0;\n",
              "      width: 32px;\n",
              "    }\n",
              "\n",
              "    .colab-df-convert:hover {\n",
              "      background-color: #E2EBFA;\n",
              "      box-shadow: 0px 1px 2px rgba(60, 64, 67, 0.3), 0px 1px 3px 1px rgba(60, 64, 67, 0.15);\n",
              "      fill: #174EA6;\n",
              "    }\n",
              "\n",
              "    [theme=dark] .colab-df-convert {\n",
              "      background-color: #3B4455;\n",
              "      fill: #D2E3FC;\n",
              "    }\n",
              "\n",
              "    [theme=dark] .colab-df-convert:hover {\n",
              "      background-color: #434B5C;\n",
              "      box-shadow: 0px 1px 3px 1px rgba(0, 0, 0, 0.15);\n",
              "      filter: drop-shadow(0px 1px 2px rgba(0, 0, 0, 0.3));\n",
              "      fill: #FFFFFF;\n",
              "    }\n",
              "  </style>\n",
              "\n",
              "      <script>\n",
              "        const buttonEl =\n",
              "          document.querySelector('#df-eedd7a52-2cbf-417b-a08c-53ccd21db391 button.colab-df-convert');\n",
              "        buttonEl.style.display =\n",
              "          google.colab.kernel.accessAllowed ? 'block' : 'none';\n",
              "\n",
              "        async function convertToInteractive(key) {\n",
              "          const element = document.querySelector('#df-eedd7a52-2cbf-417b-a08c-53ccd21db391');\n",
              "          const dataTable =\n",
              "            await google.colab.kernel.invokeFunction('convertToInteractive',\n",
              "                                                     [key], {});\n",
              "          if (!dataTable) return;\n",
              "\n",
              "          const docLinkHtml = 'Like what you see? Visit the ' +\n",
              "            '<a target=\"_blank\" href=https://colab.research.google.com/notebooks/data_table.ipynb>data table notebook</a>'\n",
              "            + ' to learn more about interactive tables.';\n",
              "          element.innerHTML = '';\n",
              "          dataTable['output_type'] = 'display_data';\n",
              "          await google.colab.output.renderOutput(dataTable, element);\n",
              "          const docLink = document.createElement('div');\n",
              "          docLink.innerHTML = docLinkHtml;\n",
              "          element.appendChild(docLink);\n",
              "        }\n",
              "      </script>\n",
              "    </div>\n",
              "  </div>\n",
              "  "
            ]
          },
          "metadata": {},
          "execution_count": 17
        }
      ]
    },
    {
      "cell_type": "code",
      "metadata": {
        "colab": {
          "base_uri": "https://localhost:8080/"
        },
        "id": "G8v6IJ5achjB",
        "outputId": "c05aea67-dac6-45fa-ea07-671c98b635bf"
      },
      "source": [
        "train_df['labels'].value_counts()"
      ],
      "execution_count": null,
      "outputs": [
        {
          "output_type": "execute_result",
          "data": {
            "text/plain": [
              "1    485\n",
              "0    173\n",
              "Name: labels, dtype: int64"
            ]
          },
          "metadata": {},
          "execution_count": 18
        }
      ]
    },
    {
      "cell_type": "code",
      "metadata": {
        "colab": {
          "base_uri": "https://localhost:8080/"
        },
        "id": "Ghwa3Ujscp3c",
        "outputId": "7208275d-e7b7-42bf-d145-13c6d3970243"
      },
      "source": [
        "eval_df['labels'].value_counts()"
      ],
      "execution_count": null,
      "outputs": [
        {
          "output_type": "execute_result",
          "data": {
            "text/plain": [
              "1    486\n",
              "0    174\n",
              "Name: labels, dtype: int64"
            ]
          },
          "metadata": {},
          "execution_count": 19
        }
      ]
    },
    {
      "cell_type": "markdown",
      "metadata": {
        "id": "dXEhG1O_NDKg"
      },
      "source": [
        "## Definimos algunos parámetros de la red"
      ]
    },
    {
      "cell_type": "markdown",
      "metadata": {
        "id": "5nXDZMV0c-Ls"
      },
      "source": [
        " - vocab_size = cómo de largo queremos que sea nuestro vocabulario. Si es demasiado corto, el rendimiento de la red sería muy pobre pues habría muchos tokens desconocidos. Si es demasiado grande, nuestra red tardará más en entrenar.\n",
        "\n",
        " - embedding_dim: Este parámetro nos dice cómo de grandes queremos que sean los vectores que representan cada palabra de nuestro vocabulario. Normalmente, cuanto más grandes sean, mayor 'calidad' en la representación de las mismas.\n",
        "\n",
        " - max_length: Debemos definir una longitud máxima de secuencia puesto que nuestra red espera que todas tenga la misma longitud. En nuestro caso, como partimos el dataset en secuencias de 250 palabras, usaremos ese valor.\n",
        "\n",
        " - trunc_type: si una secuencia es más larga de 250 palabras la cortamos por detrás (post).\n",
        "\n",
        "- padding_type = nos dice que en caso de que la secuencia se más corta de 250 tokens en qué parte de ésta se añade los tokens de padding (post = al final).\n",
        "\n",
        "- oov_tok = `<OOV>` da un valor a las palabras/tokens que estén fuera de esas 5000 como máximo que hemos definido para nuestro vocabulario.\n"
      ]
    },
    {
      "cell_type": "code",
      "metadata": {
        "id": "yeN5zad3djSj"
      },
      "source": [
        "vocab_size = 5000\n",
        "embedding_dim = 64\n",
        "max_length = 250\n",
        "trunc_type = 'post'\n",
        "padding_type = 'post'\n",
        "oov_tok = '<OOV>'"
      ],
      "execution_count": null,
      "outputs": []
    },
    {
      "cell_type": "code",
      "metadata": {
        "colab": {
          "base_uri": "https://localhost:8080/"
        },
        "id": "SSipg3irNLoc",
        "outputId": "005982a2-45c8-4963-f2e2-e60ab28becde"
      },
      "source": [
        "train_articles = train_df['text'].tolist()\n",
        "train_labels = train_df['labels'].tolist()\n",
        "\n",
        "validation_articles = eval_df['text'].tolist()\n",
        "validation_labels = eval_df['labels'].tolist()\n",
        "\n",
        "print(len(train_articles))\n",
        "print(len(train_labels))\n",
        "print(len(validation_articles))\n",
        "print(len(validation_labels))"
      ],
      "execution_count": null,
      "outputs": [
        {
          "output_type": "stream",
          "name": "stdout",
          "text": [
            "658\n",
            "658\n",
            "660\n",
            "660\n"
          ]
        }
      ]
    },
    {
      "cell_type": "markdown",
      "metadata": {
        "id": "L3FVSkGNNbeD"
      },
      "source": [
        "## Creamos el Tokenizer"
      ]
    },
    {
      "cell_type": "markdown",
      "metadata": {
        "id": "zodihNvZfHnA"
      },
      "source": [
        "Le vamos a decir cuál es el número máximo de palabras, el token para palabras que no estén en el vocabulario y que las pase minúsculas para reducir el tamaño del mismo"
      ]
    },
    {
      "cell_type": "code",
      "metadata": {
        "colab": {
          "base_uri": "https://localhost:8080/"
        },
        "id": "KFotUWa4NeB-",
        "outputId": "7297dfba-9af7-49aa-9bad-567ad48c9117"
      },
      "source": [
        "tokenizer = Tokenizer(num_words = vocab_size, oov_token=oov_tok, lower=True)\n",
        "tokenizer.fit_on_texts(train_articles)\n",
        "word_index = tokenizer.word_index\n",
        "dict(list(word_index.items())[0:10])"
      ],
      "execution_count": null,
      "outputs": [
        {
          "output_type": "execute_result",
          "data": {
            "text/plain": [
              "{'<OOV>': 1,\n",
              " 'a': 7,\n",
              " 'de': 2,\n",
              " 'el': 6,\n",
              " 'en': 8,\n",
              " 'la': 4,\n",
              " 'no': 9,\n",
              " 'que': 3,\n",
              " 'se': 10,\n",
              " 'y': 5}"
            ]
          },
          "metadata": {},
          "execution_count": 22
        }
      ]
    },
    {
      "cell_type": "markdown",
      "metadata": {
        "id": "q2IrSCgpfY7h"
      },
      "source": [
        "No hemos filtrado las `STOPWORDS` pero se podría."
      ]
    },
    {
      "cell_type": "markdown",
      "metadata": {
        "id": "J-euGB85fiyI"
      },
      "source": [
        "Tokenizamos nuestro dataset de entrenamiento una vez que ya tenemos nuestro vocabulario listo."
      ]
    },
    {
      "cell_type": "code",
      "metadata": {
        "colab": {
          "base_uri": "https://localhost:8080/"
        },
        "id": "BwEuNYqHNkNQ",
        "outputId": "c0415f9f-c363-4ccb-8501-5e244463c351"
      },
      "source": [
        "train_sequences = tokenizer.texts_to_sequences(train_articles)\n",
        "print(train_sequences[10])"
      ],
      "execution_count": null,
      "outputs": [
        {
          "output_type": "stream",
          "name": "stdout",
          "text": [
            "[1, 15, 204, 18, 45, 3, 78, 9, 42, 636, 344, 5, 3, 18, 1, 23, 646, 362, 1, 15, 712, 8, 4, 411, 70, 170, 18, 2858, 6, 1, 5, 1129, 22, 88, 286, 2855, 8, 6, 987, 2, 4521, 495, 1, 13, 286, 8, 624, 1, 3, 266, 1, 27, 3, 1, 1120, 70, 170, 5, 25, 1, 8, 6, 412, 2, 15, 310, 2859, 2, 4522, 10, 1, 7, 3500, 535, 27, 1, 4523, 6, 97, 19, 73, 293, 1, 2, 16, 3, 3501, 1060, 272, 26, 71, 4524, 95, 26, 71, 1, 1, 168, 1, 99, 1627, 6, 2860, 3, 9, 216, 379, 8, 237, 791, 24, 48, 101, 1, 2, 203, 71, 386, 370, 5, 11, 13, 88, 2, 2424, 5, 95, 88, 2, 3502, 5, 89, 4525, 89, 4525, 1338, 186, 2812, 29, 30, 1, 9, 1130, 31, 204, 29, 105, 73, 1844, 8, 83, 713, 10, 19, 1628, 20, 2425, 21, 1345, 1, 7, 41, 106, 2, 1, 400, 3, 1, 20, 1629, 797, 157, 121, 169, 52, 10, 458, 8, 1061, 52, 9, 10, 458, 26, 1, 86, 3, 199, 1, 20, 102, 3, 16, 1, 46, 1346, 46, 5, 3, 10, 1347, 1, 8, 1, 8, 2098, 1, 1, 1845, 4526, 5, 8, 1846, 1, 28, 80, 8, 2861, 1, 25, 2862, 257, 81, 164, 52, 222, 3, 54, 1, 1, 23, 99, 12, 2426, 24, 13, 679, 3, 1847, 4, 928, 39, 7, 4, 109, 9, 10, 4, 3503, 267]\n"
          ]
        }
      ]
    },
    {
      "cell_type": "markdown",
      "metadata": {
        "id": "Q2J2jAD_ftOe"
      },
      "source": [
        "Aplicamos padding a nuestras secuencias de entrenamientoi para que todas tengan la misma longitud (para este dataset no es neceario porque las dividimos con la misma longitud, pero en otros casos suele ser útil)."
      ]
    },
    {
      "cell_type": "code",
      "metadata": {
        "colab": {
          "base_uri": "https://localhost:8080/"
        },
        "id": "u4UbbghkNlfg",
        "outputId": "18eac17b-a9cc-4224-c438-aa927751cae9"
      },
      "source": [
        "train_padded = pad_sequences(train_sequences, maxlen=max_length, padding=padding_type, truncating=trunc_type)\n",
        "print(len(train_sequences[0]))\n",
        "print(len(train_padded[0]))\n",
        "\n",
        "print(len(train_sequences[1]))\n",
        "print(len(train_padded[1]))\n",
        "\n",
        "print(len(train_sequences[10]))\n",
        "print(len(train_padded[10]))"
      ],
      "execution_count": null,
      "outputs": [
        {
          "output_type": "stream",
          "name": "stdout",
          "text": [
            "255\n",
            "250\n",
            "254\n",
            "250\n",
            "250\n",
            "250\n"
          ]
        }
      ]
    },
    {
      "cell_type": "code",
      "metadata": {
        "colab": {
          "base_uri": "https://localhost:8080/"
        },
        "id": "UCRWM1asJX9A",
        "outputId": "f65a7c40-7676-4179-bcfc-a36379010741"
      },
      "source": [
        "print(train_padded[10])"
      ],
      "execution_count": null,
      "outputs": [
        {
          "output_type": "stream",
          "name": "stdout",
          "text": [
            "[   1   15  204   18   45    3   78    9   42  636  344    5    3   18\n",
            "    1   23  646  362    1   15  712    8    4  411   70  170   18 2858\n",
            "    6    1    5 1129   22   88  286 2855    8    6  987    2 4521  495\n",
            "    1   13  286    8  624    1    3  266    1   27    3    1 1120   70\n",
            "  170    5   25    1    8    6  412    2   15  310 2859    2 4522   10\n",
            "    1    7 3500  535   27    1 4523    6   97   19   73  293    1    2\n",
            "   16    3 3501 1060  272   26   71 4524   95   26   71    1    1  168\n",
            "    1   99 1627    6 2860    3    9  216  379    8  237  791   24   48\n",
            "  101    1    2  203   71  386  370    5   11   13   88    2 2424    5\n",
            "   95   88    2 3502    5   89 4525   89 4525 1338  186 2812   29   30\n",
            "    1    9 1130   31  204   29  105   73 1844    8   83  713   10   19\n",
            " 1628   20 2425   21 1345    1    7   41  106    2    1  400    3    1\n",
            "   20 1629  797  157  121  169   52   10  458    8 1061   52    9   10\n",
            "  458   26    1   86    3  199    1   20  102    3   16    1   46 1346\n",
            "   46    5    3   10 1347    1    8    1    8 2098    1    1 1845 4526\n",
            "    5    8 1846    1   28   80    8 2861    1   25 2862  257   81  164\n",
            "   52  222    3   54    1    1   23   99   12 2426   24   13  679    3\n",
            " 1847    4  928   39    7    4  109    9   10    4 3503  267]\n"
          ]
        }
      ]
    },
    {
      "cell_type": "markdown",
      "metadata": {
        "id": "Vu6WBDn3gBVn"
      },
      "source": [
        "Hacemos lo propio con el dataset de validación"
      ]
    },
    {
      "cell_type": "code",
      "metadata": {
        "colab": {
          "base_uri": "https://localhost:8080/"
        },
        "id": "fFXq3RsKzo5F",
        "outputId": "36c4325f-5baa-4de2-b3fd-5c5351d01ed7"
      },
      "source": [
        "validation_sequences = tokenizer.texts_to_sequences(validation_articles)\n",
        "validation_padded = pad_sequences(validation_sequences, maxlen=max_length, padding=padding_type, truncating=trunc_type)\n",
        "\n",
        "print(len(validation_sequences))\n",
        "print(validation_padded.shape)"
      ],
      "execution_count": null,
      "outputs": [
        {
          "output_type": "stream",
          "name": "stdout",
          "text": [
            "660\n",
            "(660, 250)\n"
          ]
        }
      ]
    },
    {
      "cell_type": "markdown",
      "metadata": {
        "id": "-TqvV2BVgGeh"
      },
      "source": [
        "Codificamos correctamente las `labels`"
      ]
    },
    {
      "cell_type": "code",
      "metadata": {
        "colab": {
          "base_uri": "https://localhost:8080/"
        },
        "id": "mH9DeFBf9pgb",
        "outputId": "4820e8ae-2122-4216-e8b1-77deac1037d9"
      },
      "source": [
        "training_label_seq = np.array(train_labels, dtype=np.int8)\n",
        "validation_label_seq = np.array(validation_labels, dtype=np.int8)\n",
        "print(training_label_seq[0])\n",
        "print(training_label_seq[1])\n",
        "print(training_label_seq[2])\n",
        "print(training_label_seq.shape)\n",
        "\n",
        "print(validation_label_seq[0])\n",
        "print(validation_label_seq[1])\n",
        "print(validation_label_seq[2])\n",
        "print(validation_label_seq.shape)"
      ],
      "execution_count": null,
      "outputs": [
        {
          "output_type": "stream",
          "name": "stdout",
          "text": [
            "1\n",
            "1\n",
            "1\n",
            "(658,)\n",
            "1\n",
            "1\n",
            "1\n",
            "(660,)\n"
          ]
        }
      ]
    },
    {
      "cell_type": "markdown",
      "metadata": {
        "id": "xBYiRaVqgNgU"
      },
      "source": [
        "Veamos cómo somos capaces de decodificar una secuencia tokenizada a texto de nuevo gracias al tokenizer que creamos"
      ]
    },
    {
      "cell_type": "code",
      "metadata": {
        "colab": {
          "base_uri": "https://localhost:8080/"
        },
        "id": "TH1gdnnBdv68",
        "outputId": "f60a83f2-0348-46c5-eb67-cf7697c30693"
      },
      "source": [
        "reverse_word_index = dict([(value, key) for (key, value) in word_index.items()])\n",
        "\n",
        "def decode_article(text):\n",
        "    return ' '.join([reverse_word_index.get(i, '?') for i in text])\n",
        "print(decode_article(train_padded[10]))\n",
        "print('---')\n",
        "print(train_articles[10])"
      ],
      "execution_count": null,
      "outputs": [
        {
          "output_type": "stream",
          "name": "stdout",
          "text": [
            "<OOV> su tía le dijo que fortunata no había venido aún y que le <OOV> para comer maxi <OOV> su sitio en la mesa doña lupe le recogió el <OOV> y volviendo al poco rato sentose en el sofá de paja ambos <OOV> un rato en silencio <OOV> que hoy <OOV> más que <OOV> observó doña lupe y como <OOV> en el rostro de su sobrino señales de desasosiego se <OOV> a entablar conversación más <OOV> «todo el día me he estado <OOV> de lo que hablamos anoche ¡ah si tú fueras otro si tú <OOV> <OOV> pronto <OOV> todos ricos el farmacéutico que no hace dinero en estos tiempos es porque tiene <OOV> de pobre tú sabes bastante y con un poco de trastienda y otro poco de farsa y mucho anuncio mucho anuncio negocio hecho créeme yo te <OOV> no crea usted tía yo también he pensado en eso ayer se me ocurría una aplicación del hierro <OOV> a sin fin de <OOV> creo que <OOV> una fórmula nueva estas cosas hijo o se hacen en gordo o no se hacen si <OOV> algo que sea <OOV> una cosa que lo <OOV> todo absolutamente todo y que se pueda <OOV> en <OOV> en píldoras <OOV> <OOV> jarabe emplasto y en cigarros <OOV> pero hombre en tantísima <OOV> como tenéis ¿no hay tres o cuatro que bien <OOV> <OOV> para todos los enfermos es un dolor que teniendo la fortuna tan a la mano no se la coja mira\n",
            "---\n",
            "fruncidas. Su tía le dijo que Fortunata no había venido aún y que le esperarían para comer. Maxi ocupó su sitio en la mesa, doña Lupe le recogió el sombreo, y volviendo al poco rato, sentose en el sofá de paja; ambos esperaron un rato en silencio. «Cuidado que hoy tarda más que nunca» observó doña Lupe; y como notase en el rostro de su sobrino señales de desasosiego, se apresuró a entablar conversación más amena. «Todo el día me he estado acordando de lo que hablamos anoche. ¡Ah!, si tú fueras otro, si tú tuvieras ambición, pronto seríamos todos ricos. El farmacéutico que no hace dinero en estos tiempos es porque tiene vocación de pobre. Tú sabes bastante, y con un poco de trastienda y otro poco de farsa y mucho anuncio, mucho anuncio, negocio hecho. Créeme, yo te ayudaría». --No crea usted, tía, yo también he pensado en eso. Ayer se me ocurría una aplicación del _hierro dializado_ a sin fin de medicamentos... Creo que encontraría una fórmula nueva. --Estas cosas, hijo, o se hacen en gordo o no se hacen. Si inventas algo, que sea _panacea_, una cosa que lo cure todo, absolutamente todo, y que se pueda vender en líquido, en píldoras, pastillas, cápsulas, jarabe, emplasto y en cigarros aspiradores. Pero hombre, en tantísima droga como tenéis ¿no hay tres o cuatro que bien combinadas sirvan para todos los enfermos? Es un dolor que teniendo la fortuna tan a la mano, no se la coja. Mira\n"
          ]
        }
      ]
    },
    {
      "cell_type": "markdown",
      "metadata": {
        "id": "jpJJ9568OOof"
      },
      "source": [
        "## Construimos nuestra red neuronal"
      ]
    },
    {
      "cell_type": "markdown",
      "metadata": {
        "id": "8JIZ8L8igcS4"
      },
      "source": [
        "- Utilizaremos la `Sequential` API de Keras\n",
        "- Creamos una primera capa de `Embedding`que tiene por tamaño `vocab_size`x `embedding_dim`\n",
        "- Despues añadimos nuestra capa de recurrencia. En este caso será una `LSTM` bidireccional (aprende de izquerida a derecha y de derecha a izquierda)\n",
        "- Conectamos la salida de esa capa a una capa `Dense`.\n",
        "- Por último, conectamos todo a una capa `Dense`con función de activación `sigmoid`ya que nuestro problema de clasificación es binario."
      ]
    },
    {
      "cell_type": "code",
      "metadata": {
        "id": "-u21q7CPdyxj",
        "colab": {
          "base_uri": "https://localhost:8080/"
        },
        "outputId": "f62cb2d1-cda7-4f36-b283-749bda2a8d51"
      },
      "source": [
        "model = tf.keras.Sequential([\n",
        "    tf.keras.layers.Embedding(vocab_size, embedding_dim),\n",
        "    tf.keras.layers.Bidirectional(tf.keras.layers.LSTM(embedding_dim)),\n",
        "    tf.keras.layers.Dense(embedding_dim, activation='relu'),\n",
        "    tf.keras.layers.Dense(1, activation='sigmoid')\n",
        "])\n",
        "model.summary()"
      ],
      "execution_count": null,
      "outputs": [
        {
          "output_type": "stream",
          "name": "stdout",
          "text": [
            "Model: \"sequential\"\n",
            "_________________________________________________________________\n",
            " Layer (type)                Output Shape              Param #   \n",
            "=================================================================\n",
            " embedding (Embedding)       (None, None, 64)          320000    \n",
            "                                                                 \n",
            " bidirectional (Bidirectiona  (None, 128)              66048     \n",
            " l)                                                              \n",
            "                                                                 \n",
            " dense (Dense)               (None, 64)                8256      \n",
            "                                                                 \n",
            " dense_1 (Dense)             (None, 1)                 65        \n",
            "                                                                 \n",
            "=================================================================\n",
            "Total params: 394,369\n",
            "Trainable params: 394,369\n",
            "Non-trainable params: 0\n",
            "_________________________________________________________________\n"
          ]
        }
      ]
    },
    {
      "cell_type": "code",
      "metadata": {
        "id": "tRC4gdpTOdJ2"
      },
      "source": [
        "model.compile(loss='binary_crossentropy', optimizer='adam', metrics=['accuracy'])"
      ],
      "execution_count": null,
      "outputs": []
    },
    {
      "cell_type": "markdown",
      "metadata": {
        "id": "wku8-NcvOiEl"
      },
      "source": [
        "## Entrenamos nuestro modelo"
      ]
    },
    {
      "cell_type": "code",
      "metadata": {
        "colab": {
          "base_uri": "https://localhost:8080/"
        },
        "id": "CCq0VEY3Of51",
        "outputId": "04b0139e-bac3-420d-bf9c-d00724adbe02"
      },
      "source": [
        "num_epochs = 4\n",
        "history = model.fit(train_padded, training_label_seq, epochs=num_epochs, validation_data=(validation_padded, validation_label_seq), verbose=2)"
      ],
      "execution_count": null,
      "outputs": [
        {
          "output_type": "stream",
          "name": "stdout",
          "text": [
            "Epoch 1/4\n",
            "21/21 - 8s - loss: 0.6390 - accuracy: 0.7158 - val_loss: 0.5759 - val_accuracy: 0.7364 - 8s/epoch - 386ms/step\n",
            "Epoch 2/4\n",
            "21/21 - 4s - loss: 0.5374 - accuracy: 0.7371 - val_loss: 0.5160 - val_accuracy: 0.7364 - 4s/epoch - 207ms/step\n",
            "Epoch 3/4\n",
            "21/21 - 4s - loss: 0.2707 - accuracy: 0.8845 - val_loss: 0.2464 - val_accuracy: 0.9333 - 4s/epoch - 206ms/step\n",
            "Epoch 4/4\n",
            "21/21 - 5s - loss: 0.1382 - accuracy: 0.9590 - val_loss: 0.2664 - val_accuracy: 0.9152 - 5s/epoch - 220ms/step\n"
          ]
        }
      ]
    },
    {
      "cell_type": "markdown",
      "metadata": {
        "id": "juWKrCZROpaN"
      },
      "source": [
        "## Visualizamos los resultados"
      ]
    },
    {
      "cell_type": "code",
      "metadata": {
        "colab": {
          "base_uri": "https://localhost:8080/",
          "height": 541
        },
        "id": "tQ2VSuHpd18X",
        "outputId": "02fc4a7b-9dfd-4149-b173-bc456e8e6bb8"
      },
      "source": [
        "def plot_graphs(history, string):\n",
        "  plt.plot(history.history[string])\n",
        "  plt.plot(history.history['val_'+string])\n",
        "  plt.xlabel(\"Epochs\")\n",
        "  plt.ylabel(string)\n",
        "  plt.legend([string, 'val_'+string])\n",
        "  plt.show()\n",
        "  \n",
        "plot_graphs(history, \"accuracy\")\n",
        "plot_graphs(history, \"loss\")"
      ],
      "execution_count": null,
      "outputs": [
        {
          "output_type": "display_data",
          "data": {
            "text/plain": [
              "<Figure size 432x288 with 1 Axes>"
            ],
            "image/png": "[encoded data removed]"
          },
          "metadata": {
            "needs_background": "light"
          }
        },
        {
          "output_type": "display_data",
          "data": {
            "text/plain": [
              "<Figure size 432x288 with 1 Axes>"
            ],
            "image/png": "[encoded data removed]"
          },
          "metadata": {
            "needs_background": "light"
          }
        }
      ]
    },
    {
      "cell_type": "markdown",
      "metadata": {
        "id": "mbWlCoZrO3FG"
      },
      "source": [
        "## Probemos nuestro modelo"
      ]
    },
    {
      "cell_type": "code",
      "metadata": {
        "colab": {
          "base_uri": "https://localhost:8080/"
        },
        "id": "E8m7ukwrZjRs",
        "outputId": "8551b817-e3ca-4677-e091-e183dbb46b0a"
      },
      "source": [
        "validation_articles[50], validation_label_seq[50]"
      ],
      "execution_count": null,
      "outputs": [
        {
          "output_type": "execute_result",
          "data": {
            "text/plain": [
              "('hace mil años.... Esa fresa es mía --exclamó arrebatando una que Amparo llevaba a sus labios. Ella se la dejó robar, confusa, ruborizada y satisfecha. --¿Y a su casa... tampoco va usted? --Tampoco... no seas celosa, chica. ¿Por qué hemos de hablar siempre de la de García, y no de ti? ¡De nosotros!--añadió con expresión de contenida vehemencia. Sintió la muchacha como una ola de fuego que la envolvía desde la planta de los pies hasta la raíz del cabello, y después un leve frío que le agolpó la sangre al corazón. Borrén se aproximó a la amante pareja, abriendo las manos llenas de tierra y de fresas despachurradas. --Ya me duelen los riñones de andar a gatas--dijo--. Podíamos merendar... si a ustedes no les molesta, pollos. --Por mí...--murmuró Amparo. Ana se acercaba también, trayendo una servilleta anudada, que desató y tendió sobre el brocal del pozo. Reducíase la merienda a unos pastelillos de dulce y una botella de moscatel, regalo de Baltasar. Fueles preciso beber por un mismo vaso, único que había, y Ana, que era asquillosa y aprensiva, prefirió echar tragos por la botella, sin recelo de cortarse con los agudos cristales del roto gollete. Sus carrillos chupados se colorearon, su lengua se desató más que de costumbre; y por vía de diversión empezó a coger tierra a puñados y a esparcirla por la cabeza de Borrén. Después, levantándose, le propuso que «hiciesen el remolino». Borrén no quería, ni a tres tirones; pero la Comadreja le asió de',\n",
              " 0)"
            ]
          },
          "metadata": {},
          "execution_count": 33
        }
      ]
    },
    {
      "cell_type": "code",
      "metadata": {
        "id": "W2Iip3Acd49N",
        "colab": {
          "base_uri": "https://localhost:8080/"
        },
        "outputId": "cae18a1a-a1e1-4663-e6e9-3d287cbdc7c3"
      },
      "source": [
        "txt = ['''\n",
        "para que el triunfo fuese completo era menester que a Maxi le entrase una enfermedad asquerosa, repugnante y pestífera, de esas que ahuyentan hasta a los más allegados. Ella, entonces, daría pruebas de ser tan ángel como otra cualquiera, y tendría alma, paciencia, valor y estómago para todo. «Y entonces vería _esa_ si aquí hay perfecciones o no hay perfecciones, y que cada una es cada una... Lo malo sería que no lo viese, porque acá no ha de venir...». Maximiliano la distrajo de esta meditación, dando quejidos profundos. Ya conocía aquello su mujer y sabía el remedio, que era volverlo suavemente del otro lado... «¡Qué sueño!--murmuró Maxi medio despierto--. Soñaba que te habías marchado... y yo te había cogido de un pie, y tú tirabas, y yo tiraba más, y tirando se me rompía la bolsa del aneurisma, y todo el cuarto se llenaba de sangre, todo el cuarto, hasta el techo...». Le arrulló para que se durmiera, y ella se durmió también. Levantose temprano porque tenía que trabajar. Después de las nueve, cuando entró en la alcoba a ver si a su marido se le ofrecía alguna cosa, este se estaba vistiendo, y en una disposición de ánimo muy distinta de la que tuviera la noche anterior. No sólo parecía recobrado de su debilidad, sino que estaba inquieto, ágil y como si acabara de tomar un excitante muy enérgico. En cuanto entró su mujer, se fue derecho a ella, abotonándose el cuello de la camisa, y en tono\n",
        "''']\n",
        "seq = tokenizer.texts_to_sequences(txt)\n",
        "padded = pad_sequences(seq, maxlen=max_length)\n",
        "pred = model.predict(padded)\n",
        "print(pred)\n",
        "print(\"Parece una secuencia de una novela de Galdós\" if pred[0] > 0.5 else \"Parece que esta novela pertenece a Emilia Pardo Bazán\")"
      ],
      "execution_count": null,
      "outputs": [
        {
          "output_type": "stream",
          "name": "stdout",
          "text": [
            "[[0.9890648]]\n",
            "Parece una secuencia de una novela de Galdós\n"
          ]
        }
      ]
    },
    {
      "cell_type": "code",
      "metadata": {
        "id": "XeXJ1o80O9Yw"
      },
      "source": [
        ""
      ],
      "execution_count": null,
      "outputs": []
    }
  ]
}